{
 "cells": [
  {
   "cell_type": "code",
   "execution_count": 1,
   "id": "79b8f70e-ef2e-4048-abd3-536898236171",
   "metadata": {},
   "outputs": [],
   "source": [
    "import sys\n",
    "from PyQt5.QtWidgets import QApplication, QFileDialog\n",
    "from sklearn.feature_extraction.text import TfidfVectorizer\n",
    "from sklearn.metrics.pairwise import cosine_similarity\n",
    "import PyPDF2\n",
    "import os"
   ]
  },
  {
   "cell_type": "code",
   "execution_count": 2,
   "id": "8d5c7c45-8b45-4981-ba1f-2dff86a9c427",
   "metadata": {},
   "outputs": [],
   "source": [
    "# Function to load and extract text from a PDF file\n",
    "def load_pdf(file_path):\n",
    "    pdf_reader = PyPDF2.PdfFileReader(open(file_path, 'rb'))\n",
    "    text = ''\n",
    "    for page_num in range(pdf_reader.getNumPages()):\n",
    "        text += pdf_reader.getPage(page_num).extract_text()\n",
    "    return text"
   ]
  },
  {
   "cell_type": "code",
   "execution_count": 3,
   "id": "889f7609-49d6-43f2-bb01-31bc542c0d33",
   "metadata": {},
   "outputs": [],
   "source": [
    "# Function to select a file using PyQt\n",
    "def select_file():\n",
    "    app = QApplication(sys.argv)\n",
    "    file_dialog = QFileDialog()\n",
    "    file_path, _ = file_dialog.getOpenFileName(None, \"Select a PDF file\", \"\", \"PDF files (*.pdf)\")\n",
    "    return file_path"
   ]
  },
  {
   "cell_type": "code",
   "execution_count": 4,
   "id": "77ee7ef1-9c8e-4a85-ac44-6642310a6227",
   "metadata": {},
   "outputs": [],
   "source": [
    "# Function to load documents from a directory\n",
    "def load_corpus(corpus_dir):\n",
    "    corpus = []\n",
    "    for file_name in os.listdir(corpus_dir):\n",
    "        if file_name.endswith('.pdf'):\n",
    "            file_path = os.path.join(corpus_dir, file_name)\n",
    "            corpus.append(load_pdf(file_path))\n",
    "    return corpus"
   ]
  },
  {
   "cell_type": "code",
   "execution_count": 5,
   "id": "cef907d9-a030-4ae1-9ce4-fec09d4fede9",
   "metadata": {},
   "outputs": [],
   "source": [
    "# Select the file to check for plagiarism\n",
    "file_path = select_file()"
   ]
  },
  {
   "cell_type": "code",
   "execution_count": 6,
   "id": "ac65212d-b0ac-4cad-876d-cd3d524514b2",
   "metadata": {},
   "outputs": [
    {
     "name": "stderr",
     "output_type": "stream",
     "text": [
      "Xref table not zero-indexed. ID numbers for objects will be corrected.\n"
     ]
    }
   ],
   "source": [
    "# Load and extract text from the selected PDF file\n",
    "document_text = load_pdf(file_path)"
   ]
  },
  {
   "cell_type": "code",
   "execution_count": 7,
   "id": "45914a76-46b9-43c9-98a6-dd21cd70192a",
   "metadata": {},
   "outputs": [
    {
     "name": "stderr",
     "output_type": "stream",
     "text": [
      "Xref table not zero-indexed. ID numbers for objects will be corrected.\n",
      "Xref table not zero-indexed. ID numbers for objects will be corrected.\n",
      "Xref table not zero-indexed. ID numbers for objects will be corrected.\n"
     ]
    }
   ],
   "source": [
    "# Load the local corpus (directory of PDFs)\n",
    "corpus_dir = \"autoencoders\"  # Change this to the directory containing your corpus PDFs\n",
    "corpus = load_corpus(corpus_dir)"
   ]
  },
  {
   "cell_type": "code",
   "execution_count": 8,
   "id": "3a1a4d11-6b2f-4c72-97c6-1ccd2e60631b",
   "metadata": {},
   "outputs": [],
   "source": [
    "# Add the document text to the corpus for comparison\n",
    "corpus.append(document_text)"
   ]
  },
  {
   "cell_type": "code",
   "execution_count": 9,
   "id": "a1e92c41-93ff-466c-bb5d-fbe45e581450",
   "metadata": {},
   "outputs": [],
   "source": [
    "# Convert the corpus to TF-IDF vectors\n",
    "vectorizer = TfidfVectorizer(stop_words='english')\n",
    "tfidf_matrix = vectorizer.fit_transform(corpus)"
   ]
  },
  {
   "cell_type": "code",
   "execution_count": 10,
   "id": "2aa644c6-0a8e-406e-976f-152a052fa419",
   "metadata": {},
   "outputs": [],
   "source": [
    "# Compute cosine similarity between the document and the corpus\n",
    "cosine_sim_matrix = cosine_similarity(tfidf_matrix[-1], tfidf_matrix[:-1])"
   ]
  },
  {
   "cell_type": "code",
   "execution_count": 11,
   "id": "915be066-eb5f-4487-bc06-3a0827d740a5",
   "metadata": {},
   "outputs": [
    {
     "name": "stdout",
     "output_type": "stream",
     "text": [
      "Cosine Similarity and Plagiarism Percentage:\n",
      "Document 1: Cosine Similarity = 0.3020, Plagiarism = 30.20%\n",
      "\n",
      "Potential plagiarism detected!\n",
      "Document 2: Cosine Similarity = 0.2173, Plagiarism = 21.73%\n",
      "\n",
      "Potential plagiarism detected!\n",
      "Document 3: Cosine Similarity = 0.3480, Plagiarism = 34.80%\n",
      "\n",
      "Potential plagiarism detected!\n",
      "Document 4: Cosine Similarity = 0.1288, Plagiarism = 12.88%\n",
      "\n",
      "Potential plagiarism detected!\n",
      "Document 5: Cosine Similarity = 0.0843, Plagiarism = 8.43%\n",
      "\n",
      "Potential plagiarism detected!\n",
      "Document 6: Cosine Similarity = 0.1321, Plagiarism = 13.21%\n",
      "\n",
      "Potential plagiarism detected!\n",
      "Document 7: Cosine Similarity = 0.2372, Plagiarism = 23.72%\n",
      "\n",
      "Potential plagiarism detected!\n",
      "Document 8: Cosine Similarity = 0.2215, Plagiarism = 22.15%\n",
      "\n",
      "Potential plagiarism detected!\n"
     ]
    }
   ],
   "source": [
    "# Print the cosine similarity scores and corresponding plagiarism percentages\n",
    "print(\"Cosine Similarity and Plagiarism Percentage:\")\n",
    "threshold = 0.10  # 10% similarity threshold\n",
    "plagiarism_detected = False\n",
    "\n",
    "for idx, score in enumerate(cosine_sim_matrix[0]):\n",
    "    plagiarism_percentage = score * 100\n",
    "    print(f\"Document {idx + 1}: Cosine Similarity = {score:.4f}, Plagiarism = {plagiarism_percentage:.2f}%\")\n",
    "    \n",
    "    if score >= threshold:\n",
    "        plagiarism_detected = True\n",
    "\n",
    "    # Determine if any similarity score is above the threshold and print results\n",
    "    if plagiarism_detected:\n",
    "        print(\"\\nPotential plagiarism detected!\")\n",
    "    else:\n",
    "        print(\"\\nNo significant plagiarism detected.\")"
   ]
  },
  {
   "cell_type": "code",
   "execution_count": null,
   "id": "26dc66c4-d9cf-4e8b-a4b4-27d954f58961",
   "metadata": {},
   "outputs": [],
   "source": []
  }
 ],
 "metadata": {
  "kernelspec": {
   "display_name": "Python 3 (ipykernel)",
   "language": "python",
   "name": "python3"
  },
  "language_info": {
   "codemirror_mode": {
    "name": "ipython",
    "version": 3
   },
   "file_extension": ".py",
   "mimetype": "text/x-python",
   "name": "python",
   "nbconvert_exporter": "python",
   "pygments_lexer": "ipython3",
   "version": "3.9.19"
  }
 },
 "nbformat": 4,
 "nbformat_minor": 5
}
